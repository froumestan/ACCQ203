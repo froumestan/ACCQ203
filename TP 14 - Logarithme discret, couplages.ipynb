{
 "cells": [
  {
   "cell_type": "markdown",
   "metadata": {},
   "source": [
    "#### ACCQ203\n",
    "# TP 14 - Logarithme discret, couplages"
   ]
  },
  {
   "cell_type": "markdown",
   "metadata": {},
   "source": [
    "## Exo 200"
   ]
  },
  {
   "cell_type": "markdown",
   "metadata": {},
   "source": [
    "**1.**"
   ]
  },
  {
   "cell_type": "code",
   "execution_count": 1,
   "metadata": {
    "collapsed": true
   },
   "outputs": [],
   "source": [
    "def myShanks(b,g,n):\n",
    "    s = floor(sqrt(n))+1\n",
    "    T = {}\n",
    "    for j in range(s):\n",
    "        beta = g*b^(-j)\n",
    "        if beta == 1:\n",
    "            return j\n",
    "        T[beta] = j\n",
    "    i = 0\n",
    "    gamma = 1\n",
    "    b0 = b^s\n",
    "    while True:\n",
    "        i+=1\n",
    "        gamma = gamma*b0\n",
    "        if T.has_key(gamma):\n",
    "            break\n",
    "    j = T[gamma]\n",
    "    return i*s+j"
   ]
  },
  {
   "cell_type": "markdown",
   "metadata": {},
   "source": [
    "**2.**"
   ]
  },
  {
   "cell_type": "code",
   "execution_count": 128,
   "metadata": {},
   "outputs": [
    {
     "data": {
      "text/plain": [
       "323"
      ]
     },
     "execution_count": 128,
     "metadata": {},
     "output_type": "execute_result"
    }
   ],
   "source": [
    "Fq = GF(1823)\n",
    "b = Fq(3)\n",
    "g = Fq(693)\n",
    "myShanks(b,g,1822)"
   ]
  },
  {
   "cell_type": "code",
   "execution_count": 6,
   "metadata": {},
   "outputs": [
    {
     "data": {
      "text/plain": [
       "693"
      ]
     },
     "execution_count": 6,
     "metadata": {},
     "output_type": "execute_result"
    }
   ],
   "source": [
    "3^323%1823"
   ]
  },
  {
   "cell_type": "markdown",
   "metadata": {},
   "source": [
    "**3.**"
   ]
  },
  {
   "cell_type": "code",
   "execution_count": 7,
   "metadata": {},
   "outputs": [
    {
     "data": {
      "text/plain": [
       "115"
      ]
     },
     "execution_count": 7,
     "metadata": {},
     "output_type": "execute_result"
    }
   ],
   "source": [
    "Fq = GF(239)\n",
    "b = Fq(2)\n",
    "g = Fq(15)\n",
    "myShanks(b,g,238)"
   ]
  },
  {
   "cell_type": "code",
   "execution_count": 8,
   "metadata": {},
   "outputs": [
    {
     "data": {
      "text/plain": [
       "115"
      ]
     },
     "execution_count": 8,
     "metadata": {},
     "output_type": "execute_result"
    }
   ],
   "source": [
    "log(g,b)"
   ]
  },
  {
   "cell_type": "markdown",
   "metadata": {},
   "source": [
    "## Exo 202"
   ]
  },
  {
   "cell_type": "markdown",
   "metadata": {},
   "source": [
    "**1.** On peut utiliser l'algorithme du lièvre et de la tortue qui consiste à tester $w_i = w_{2i}$ pour $i \\in \\mathbb{N}$"
   ]
  },
  {
   "cell_type": "markdown",
   "metadata": {},
   "source": [
    "**2.**"
   ]
  },
  {
   "cell_type": "code",
   "execution_count": 22,
   "metadata": {
    "collapsed": true
   },
   "outputs": [],
   "source": [
    "func = lambda b : hash(b)%3"
   ]
  },
  {
   "cell_type": "code",
   "execution_count": 25,
   "metadata": {},
   "outputs": [],
   "source": [
    "Fq = GF(1823)\n",
    "temp = []\n",
    "for i in range(1,1823):\n",
    "    temp += [func(Fq(i))]"
   ]
  },
  {
   "cell_type": "code",
   "execution_count": 26,
   "metadata": {},
   "outputs": [
    {
     "data": {
      "text/plain": [
       "(607, 608, 607)"
      ]
     },
     "execution_count": 26,
     "metadata": {},
     "output_type": "execute_result"
    }
   ],
   "source": [
    "temp.count(0), temp.count(1), temp.count(2)"
   ]
  },
  {
   "cell_type": "markdown",
   "metadata": {},
   "source": [
    "On constate bien que la fonction func partage $G$ en trois groupes de taille presque égales lorsque $G = \\mathbb{F}_q^{\\times}$"
   ]
  },
  {
   "cell_type": "markdown",
   "metadata": {},
   "source": [
    "**3.**"
   ]
  },
  {
   "cell_type": "code",
   "execution_count": 102,
   "metadata": {},
   "outputs": [],
   "source": [
    "def phi(w,ai,bi,b,g):\n",
    "    func = lambda b : hash(b)%3\n",
    "    temp = func(w)\n",
    "    if temp == 0:\n",
    "        return g*w, ai, bi+1\n",
    "    elif temp == 1:\n",
    "        return w*w, 2*ai, 2*bi\n",
    "    elif temp == 2:\n",
    "        return b*w, ai+1, bi"
   ]
  },
  {
   "cell_type": "code",
   "execution_count": 123,
   "metadata": {
    "collapsed": true
   },
   "outputs": [],
   "source": [
    "def myPollard(b,g,n):\n",
    "    x = b\n",
    "    y = b\n",
    "    ai, bi = 1, 0\n",
    "    aj, bj = 1, 0\n",
    "    while True:\n",
    "        x, ai, bi = phi(x,ai,bi,b,g)\n",
    "        y, aj, bj = phi(y,aj,bj,b,g)\n",
    "        y, aj, bj = phi(y,aj,bj,b,g)\n",
    "        if x == y :\n",
    "            break\n",
    "    return (ai-aj)/(bj-bi) % n"
   ]
  },
  {
   "cell_type": "code",
   "execution_count": 126,
   "metadata": {},
   "outputs": [
    {
     "data": {
      "text/plain": [
       "323"
      ]
     },
     "execution_count": 126,
     "metadata": {},
     "output_type": "execute_result"
    }
   ],
   "source": [
    "Fq = GF(1823)\n",
    "b = Fq(3)\n",
    "g = Fq(693)\n",
    "myPollard(b,g,1822)"
   ]
  },
  {
   "cell_type": "code",
   "execution_count": 127,
   "metadata": {},
   "outputs": [
    {
     "data": {
      "text/plain": [
       "115"
      ]
     },
     "execution_count": 127,
     "metadata": {},
     "output_type": "execute_result"
    }
   ],
   "source": [
    "Fq = GF(239)\n",
    "b = Fq(2)\n",
    "g = Fq(15)\n",
    "myPollard(b,g,238)"
   ]
  },
  {
   "cell_type": "markdown",
   "metadata": {},
   "source": [
    "## Exo 206"
   ]
  },
  {
   "cell_type": "code",
   "execution_count": null,
   "metadata": {
    "collapsed": true
   },
   "outputs": [],
   "source": []
  }
 ],
 "metadata": {
  "kernelspec": {
   "display_name": "SageMath 7.6",
   "language": "",
   "name": "sagemath"
  },
  "language_info": {
   "codemirror_mode": {
    "name": "ipython",
    "version": 2
   },
   "file_extension": ".py",
   "mimetype": "text/x-python",
   "name": "python",
   "nbconvert_exporter": "python",
   "pygments_lexer": "ipython2",
   "version": "2.7.13"
  }
 },
 "nbformat": 4,
 "nbformat_minor": 2
}
