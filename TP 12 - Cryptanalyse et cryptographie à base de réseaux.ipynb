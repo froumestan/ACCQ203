{
 "cells": [
  {
   "cell_type": "markdown",
   "metadata": {},
   "source": [
    "##### ACCQ203\n",
    "\n",
    "# TP 12 - Cryptanalyse et cryptographie à base de réseaux"
   ]
  },
  {
   "cell_type": "markdown",
   "metadata": {},
   "source": [
    "## Exo 177"
   ]
  },
  {
   "cell_type": "code",
   "execution_count": 1,
   "metadata": {
    "collapsed": true
   },
   "outputs": [],
   "source": [
    "a = [356,278,417,27,132,464,521]\n",
    "s = 1287"
   ]
  },
  {
   "cell_type": "code",
   "execution_count": 2,
   "metadata": {},
   "outputs": [
    {
     "data": {
      "text/plain": [
       "[ 1  0 -1  0  1  0  1  1]\n",
       "[ 1  0  1 -1  2  0  0 -1]\n",
       "[ 0 -1 -1  0 -1  0  0 -2]\n",
       "[ 0  1 -1 -2  1 -1 -1  1]\n",
       "[ 1 -1  0 -1  0  1  1  2]\n",
       "[ 0  0  0  1  0 -3 -1  1]\n",
       "[ 1  1  1  0 -1  0  0  0]\n",
       "[ 0 -1 -1  0  1  0 -3 -1]"
      ]
     },
     "execution_count": 2,
     "metadata": {},
     "output_type": "execute_result"
    }
   ],
   "source": [
    "B = matrix(ZZ,\n",
    "           [[1,0,0,0,0,0,0,0],\n",
    "            [0,1,0,0,0,0,0,0],\n",
    "            [0,0,1,0,0,0,0,0],\n",
    "            [0,0,0,1,0,0,0,0],\n",
    "            [0,0,0,0,1,0,0,0],\n",
    "            [0,0,0,0,0,1,0,0],\n",
    "            [0,0,0,0,0,0,1,0],\n",
    "            [356,278,417,27,132,464,521,-1287]])\n",
    "B.transpose().LLL().transpose()"
   ]
  },
  {
   "cell_type": "code",
   "execution_count": 3,
   "metadata": {},
   "outputs": [
    {
     "data": {
      "text/plain": [
       "1287"
      ]
     },
     "execution_count": 3,
     "metadata": {},
     "output_type": "execute_result"
    }
   ],
   "source": [
    "356+278+132+521"
   ]
  },
  {
   "cell_type": "markdown",
   "metadata": {},
   "source": [
    "## Exo 178"
   ]
  },
  {
   "cell_type": "code",
   "execution_count": 4,
   "metadata": {
    "collapsed": true
   },
   "outputs": [],
   "source": [
    "def myCoppersmith(f,N,B=-1):\n",
    "\n",
    "    P = f.parent()\n",
    "    x = P.gen()\n",
    "    d = f.degree()\n",
    "\n",
    "    m = int(log(N)/d)+1\n",
    "    if B==-1:\n",
    "        B = int(N^(1/d)/(2*e))+1\n",
    "        #B = int(N^(1/d))\n",
    "\n",
    "    g = matrix(P,m+1,d)\n",
    "\n",
    "    L = matrix((d-1)+d*m+1,(m+1)*d)\n",
    "\n",
    "    for i in range(m+1):\n",
    "        for j in range(d):\n",
    "            g[i,j] = P(x^(j) * N^(i) * f^(m-i))\n",
    "            b = vector(g[i,j](B*x).coefficients(sparse=False))\n",
    "            for k in range(len(b)):\n",
    "                L[k,i*d+j]=b[k]\n",
    "\n",
    "    L = L.transpose().hermite_form().transpose()\n",
    "    V = L.transpose().LLL(3/4).transpose()\n",
    "    for i in range(V.ncols()):\n",
    "        if V.column(i) != 0:\n",
    "            v = V.column(i)\n",
    "            break\n",
    "    h = sum([v[i]*x^i/B^i for i in range(len(v))])\n",
    "    R = h.roots(ZZ,multiplicities=False)\n",
    "    rep = [r for r in R if (abs(r)<B and mod(f(r),N)==0)]\n",
    "    return rep"
   ]
  },
  {
   "cell_type": "code",
   "execution_count": 5,
   "metadata": {},
   "outputs": [
    {
     "data": {
      "text/plain": [
       "[5]"
      ]
     },
     "execution_count": 5,
     "metadata": {},
     "output_type": "execute_result"
    }
   ],
   "source": [
    "P.<x> = PolynomialRing(ZZ)\n",
    "f = x^2-27*x-33\n",
    "myCoppersmith(f,143,6)"
   ]
  },
  {
   "cell_type": "markdown",
   "metadata": {},
   "source": [
    "## Exo 179"
   ]
  },
  {
   "cell_type": "code",
   "execution_count": 6,
   "metadata": {},
   "outputs": [
    {
     "data": {
      "text/plain": [
       "33290626466247967736"
      ]
     },
     "execution_count": 6,
     "metadata": {},
     "output_type": "execute_result"
    }
   ],
   "source": [
    "bin = BinaryStrings()\n",
    "N = 42564360034887861127\n",
    "e = 3\n",
    "text = \"08/06:11\"\n",
    "m = mod(ZZ(str(bin.encoding(text)),base=2),N)\n",
    "c = m^e\n",
    "c"
   ]
  },
  {
   "cell_type": "code",
   "execution_count": 7,
   "metadata": {},
   "outputs": [
    {
     "data": {
      "text/plain": [
       "True"
      ]
     },
     "execution_count": 7,
     "metadata": {},
     "output_type": "execute_result"
    }
   ],
   "source": [
    "c = 12843085802751039909\n",
    "ttext = \"08/06:\"\n",
    "mm = mod(ZZ(str(bin.encoding(text))+'0000000000000000',base=2),N)\n",
    "bool(m-mm<N^(1/e))"
   ]
  },
  {
   "cell_type": "code",
   "execution_count": 8,
   "metadata": {},
   "outputs": [
    {
     "data": {
      "text/plain": [
       "[]"
      ]
     },
     "execution_count": 8,
     "metadata": {},
     "output_type": "execute_result"
    }
   ],
   "source": [
    "f = (mm+x)^e-m^e\n",
    "myCoppersmith(f,N,2^16)"
   ]
  },
  {
   "cell_type": "markdown",
   "metadata": {},
   "source": [
    "## Exo 180"
   ]
  },
  {
   "cell_type": "code",
   "execution_count": 9,
   "metadata": {
    "collapsed": true
   },
   "outputs": [],
   "source": [
    "def myBabai(B,t):\n",
    "    BB = B.transpose().gram_schmidt(orthonormal=False)[0].transpose()\n",
    "    n = B.ncols()\n",
    "    b = t\n",
    "    for j in range(n-1,-1,-1):\n",
    "        bb = BB.column(j)\n",
    "        u = b.dot_product(bb)/bb.dot_product(bb)\n",
    "        b = b - round(u)*B.column(j)\n",
    "    return t-b"
   ]
  },
  {
   "cell_type": "code",
   "execution_count": 10,
   "metadata": {
    "collapsed": true
   },
   "outputs": [],
   "source": [
    "def myFunc(B,v):\n",
    "    BB = B.transpose().gram_schmidt(orthonormal=False)[0].transpose()\n",
    "    n = B.ncols()\n",
    "    b = v\n",
    "    rep = 0\n",
    "    for j in range(n-1,-1,-1):\n",
    "        bb = BB.column(j)\n",
    "        u = b.dot_product(bb)/bb.dot_product(bb)\n",
    "        b = b - floor(u)*B.column(j)\n",
    "        rep = rep + (u-floor(u))*bb\n",
    "    return rep"
   ]
  },
  {
   "cell_type": "code",
   "execution_count": 12,
   "metadata": {
    "collapsed": true
   },
   "outputs": [],
   "source": [
    "E = matrix(ZZ,40, {(32, 32): 1, (22, 13): -2, (23, 8): -3, (15, 31): -1, (22, 37): -1,(13, 5): -4, (38, 20): 2, (4, 12): 3, (19, 22): -2, (15, 5): 2, (11,32): -1, (11, 10): 3, (1, 11): -4, (12, 33): 1, (0, 15): 1, (33, 17): 1, (7, 19): -1, (11, 1): -2, (7, 27): 3, (19, 32): -4, (22, 10): 2, (31,39): -4, (34, 9): 2, (36, 17): 2, (18, 17): 1, (14, 6): -2, (23, 14): 3,(23, 34): 2, (12, 11): -3, (0, 21): -3, (27, 22): -2, (4, 29): -3, (23,5): 1, (4, 6): -2, (24, 7): 2, (5, 38): -2, (33, 13): -1, (9, 35): 3,(18, 36): 1, (22, 5): 1, (24, 25): 3, (34, 31): 2, (6, 34): -3, (23,33): -4, (20, 37): -1, (38, 12): 2, (33, 0): -1, (4, 32): 3})\n",
    "B = 10*identity_matrix(40)+E\n",
    "c = vector([-2, 0, 2, 0, 0, 1, -1, -1, -3, 0, 0, 2, -1, 13, 7, 2, 0, 2, 27, 2, 1,17, -2, 899, 50, 15, 11, 1098, 7, 2, -1, 10,-1, 2, 156, 15, 42, 8,525748584, 37])\n"
   ]
  },
  {
   "cell_type": "code",
   "execution_count": null,
   "metadata": {
    "collapsed": true
   },
   "outputs": [],
   "source": []
  }
 ],
 "metadata": {
  "kernelspec": {
   "display_name": "SageMath 7.6",
   "language": "",
   "name": "sagemath"
  },
  "language_info": {
   "codemirror_mode": {
    "name": "ipython",
    "version": 2
   },
   "file_extension": ".py",
   "mimetype": "text/x-python",
   "name": "python",
   "nbconvert_exporter": "python",
   "pygments_lexer": "ipython2",
   "version": "2.7.13"
  }
 },
 "nbformat": 4,
 "nbformat_minor": 2
}
