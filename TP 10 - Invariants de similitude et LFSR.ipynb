{
 "cells": [
  {
   "cell_type": "markdown",
   "metadata": {},
   "source": [
    "#### ACCQ203\n",
    "# TP 10 - Invariants de similitude et LFSR"
   ]
  },
  {
   "cell_type": "markdown",
   "metadata": {},
   "source": [
    "## Exo 145"
   ]
  },
  {
   "cell_type": "code",
   "execution_count": 31,
   "metadata": {
    "collapsed": true
   },
   "outputs": [],
   "source": [
    "MS = MatrixSpace(QQ,5,5)\n",
    "K.<x> = PolynomialRing(QQ)"
   ]
  },
  {
   "cell_type": "markdown",
   "metadata": {},
   "source": [
    "**1.**"
   ]
  },
  {
   "cell_type": "code",
   "execution_count": 3,
   "metadata": {
    "collapsed": true
   },
   "outputs": [],
   "source": [
    "M1 = MS([[-1841, -10363,   22304,  108021, -243809],\n",
    "         [ 1366,   7695,  -16535,  -80130,  180869],\n",
    "         [-1072,  -6088,   13069,   63408, -143144],\n",
    "         [  506,   2951,   -6298,  -30700,   69343],\n",
    "         [   82,    502,   -1061,   -5214,   11788]])"
   ]
  },
  {
   "cell_type": "code",
   "execution_count": 4,
   "metadata": {},
   "outputs": [
    {
     "data": {
      "text/plain": [
       "[                      1                       0                       0                       0                       0]\n",
       "[                      0                       1                       0                       0                       0]\n",
       "[                      0                       0                       1                       0                       0]\n",
       "[                      0                       0                       0          x^2 - 7*x + 10                       0]\n",
       "[                      0                       0                       0                       0 x^3 - 4*x^2 - 11*x + 30]"
      ]
     },
     "execution_count": 4,
     "metadata": {},
     "output_type": "execute_result"
    }
   ],
   "source": [
    "(x*matrix.identity(5)-M1).smith_form()[0]"
   ]
  },
  {
   "cell_type": "markdown",
   "metadata": {},
   "source": [
    "Les invariants de similitude de $M_1$ sont donc $x^2 - 7x + 10$ et $x^3 - 4x^2 - 11x + 30$.\n",
    "\n",
    "Son polynôme minimal est $x^3 - 4x^2 - 11x + 30$\n",
    "\n",
    "On vérifie avec les fonctions de sage :"
   ]
  },
  {
   "cell_type": "code",
   "execution_count": 5,
   "metadata": {},
   "outputs": [
    {
     "data": {
      "text/plain": [
       "x^3 - 4*x^2 - 11*x + 30"
      ]
     },
     "execution_count": 5,
     "metadata": {},
     "output_type": "execute_result"
    }
   ],
   "source": [
    "M1.minimal_polynomial()"
   ]
  },
  {
   "cell_type": "code",
   "execution_count": 6,
   "metadata": {},
   "outputs": [
    {
     "data": {
      "text/plain": [
       "x^5 - 11*x^4 + 27*x^3 + 67*x^2 - 320*x + 300"
      ]
     },
     "execution_count": 6,
     "metadata": {},
     "output_type": "execute_result"
    }
   ],
   "source": [
    "M1.characteristic_polynomial()"
   ]
  },
  {
   "cell_type": "code",
   "execution_count": 7,
   "metadata": {},
   "outputs": [
    {
     "data": {
      "text/plain": [
       "True"
      ]
     },
     "execution_count": 7,
     "metadata": {},
     "output_type": "execute_result"
    }
   ],
   "source": [
    "M1.characteristic_polynomial() == (x^2 - 7*x + 10) * (x^3 - 4*x^2 - 11*x + 30)"
   ]
  },
  {
   "cell_type": "markdown",
   "metadata": {},
   "source": [
    "**2.**"
   ]
  },
  {
   "cell_type": "code",
   "execution_count": 8,
   "metadata": {
    "collapsed": true
   },
   "outputs": [],
   "source": [
    "M2 = MS([[ 570,  1652,  -8251,  3807,   34007],\n",
    "         [-178,  -522,   2666, -1196,  -10988],\n",
    "         [ 540,  1573,  -7866,  3622,   32430],\n",
    "         [ -42,  -118,    580,  -275,   -2387],\n",
    "         [ 135,   393,  -1967,   905,    8109]])"
   ]
  },
  {
   "cell_type": "code",
   "execution_count": 9,
   "metadata": {},
   "outputs": [
    {
     "data": {
      "text/plain": [
       "[                                           1                                            0                                            0                                            0                                            0]\n",
       "[                                           0                                            1                                            0                                            0                                            0]\n",
       "[                                           0                                            0                                            1                                            0                                            0]\n",
       "[                                           0                                            0                                            0                                            1                                            0]\n",
       "[                                           0                                            0                                            0                                            0 x^5 - 16*x^4 + 73*x^3 - 18*x^2 - 324*x - 216]"
      ]
     },
     "execution_count": 9,
     "metadata": {},
     "output_type": "execute_result"
    }
   ],
   "source": [
    "(x*matrix.identity(5)-M2).smith_form()[0]"
   ]
  },
  {
   "cell_type": "markdown",
   "metadata": {},
   "source": [
    "Le seul invariant de similitude de $M_2$ est $x^5 - 16x^4 + 73x^3 - 18x^2 - 324x - 216$. Il s'agit aussi de son polynôme minimal et de son polynôme caractéristique."
   ]
  },
  {
   "cell_type": "code",
   "execution_count": 10,
   "metadata": {},
   "outputs": [
    {
     "data": {
      "text/plain": [
       "x^5 - 16*x^4 + 73*x^3 - 18*x^2 - 324*x - 216"
      ]
     },
     "execution_count": 10,
     "metadata": {},
     "output_type": "execute_result"
    }
   ],
   "source": [
    "M2.minimal_polynomial()"
   ]
  },
  {
   "cell_type": "code",
   "execution_count": 11,
   "metadata": {},
   "outputs": [
    {
     "data": {
      "text/plain": [
       "x^5 - 16*x^4 + 73*x^3 - 18*x^2 - 324*x - 216"
      ]
     },
     "execution_count": 11,
     "metadata": {},
     "output_type": "execute_result"
    }
   ],
   "source": [
    "M2.characteristic_polynomial()"
   ]
  },
  {
   "cell_type": "markdown",
   "metadata": {},
   "source": [
    "**3.**"
   ]
  },
  {
   "cell_type": "code",
   "execution_count": 12,
   "metadata": {
    "collapsed": true
   },
   "outputs": [],
   "source": [
    "M3 = MS([[ 64,  -300,    924,  -228,   3168],\n",
    "         [-80,   404,  -1232,   304,  -4224],\n",
    "         [ 35,  -175,    543,  -133,   1848],\n",
    "         [-15,    75,   -231,    61,   -792],\n",
    "         [-20,   100,   -308,    76,  -1052]])"
   ]
  },
  {
   "cell_type": "code",
   "execution_count": 13,
   "metadata": {},
   "outputs": [
    {
     "data": {
      "text/plain": [
       "[             1              0              0              0              0]\n",
       "[             0          x - 4              0              0              0]\n",
       "[             0              0          x - 4              0              0]\n",
       "[             0              0              0          x - 4              0]\n",
       "[             0              0              0              0 x^2 - 8*x + 16]"
      ]
     },
     "execution_count": 13,
     "metadata": {},
     "output_type": "execute_result"
    }
   ],
   "source": [
    "(x*matrix.identity(5)-M3).smith_form()[0]"
   ]
  },
  {
   "cell_type": "markdown",
   "metadata": {},
   "source": [
    "Les invariants de similitude de $M_3$ sont $x-4$, $x-4$, $x-4$ et $x^2 - 8x + 16$.\n",
    "\n",
    "Son polynome minimal est $x^2 - 8x + 16$."
   ]
  },
  {
   "cell_type": "code",
   "execution_count": 14,
   "metadata": {},
   "outputs": [
    {
     "data": {
      "text/plain": [
       "x^2 - 8*x + 16"
      ]
     },
     "execution_count": 14,
     "metadata": {},
     "output_type": "execute_result"
    }
   ],
   "source": [
    "M3.minimal_polynomial()"
   ]
  },
  {
   "cell_type": "code",
   "execution_count": 15,
   "metadata": {},
   "outputs": [
    {
     "data": {
      "text/plain": [
       "x^5 - 20*x^4 + 160*x^3 - 640*x^2 + 1280*x - 1024"
      ]
     },
     "execution_count": 15,
     "metadata": {},
     "output_type": "execute_result"
    }
   ],
   "source": [
    "M3.characteristic_polynomial()"
   ]
  },
  {
   "cell_type": "code",
   "execution_count": 16,
   "metadata": {},
   "outputs": [
    {
     "data": {
      "text/plain": [
       "x^5 - 20*x^4 + 160*x^3 - 640*x^2 + 1280*x - 1024"
      ]
     },
     "execution_count": 16,
     "metadata": {},
     "output_type": "execute_result"
    }
   ],
   "source": [
    "(x-4)^3 * (x^2 - 8*x + 16)"
   ]
  },
  {
   "cell_type": "markdown",
   "metadata": {},
   "source": [
    "## Exo 148"
   ]
  },
  {
   "cell_type": "code",
   "execution_count": 17,
   "metadata": {},
   "outputs": [
    {
     "data": {
      "text/plain": [
       "[  0 -10|  0   0   0]\n",
       "[  1   7|  0   0   0]\n",
       "[-------+-----------]\n",
       "[  0   0|  0   0 -30]\n",
       "[  0   0|  1   0  11]\n",
       "[  0   0|  0   1   4]"
      ]
     },
     "execution_count": 17,
     "metadata": {},
     "output_type": "execute_result"
    }
   ],
   "source": [
    "M1.rational_form()"
   ]
  },
  {
   "cell_type": "code",
   "execution_count": 18,
   "metadata": {},
   "outputs": [
    {
     "data": {
      "text/plain": [
       "[  0   0   0   0 216]\n",
       "[  1   0   0   0 324]\n",
       "[  0   1   0   0  18]\n",
       "[  0   0   1   0 -73]\n",
       "[  0   0   0   1  16]"
      ]
     },
     "execution_count": 18,
     "metadata": {},
     "output_type": "execute_result"
    }
   ],
   "source": [
    "M2.rational_form()"
   ]
  },
  {
   "cell_type": "code",
   "execution_count": 19,
   "metadata": {},
   "outputs": [
    {
     "data": {
      "text/plain": [
       "[  4|  0|  0|  0   0]\n",
       "[---+---+---+-------]\n",
       "[  0|  4|  0|  0   0]\n",
       "[---+---+---+-------]\n",
       "[  0|  0|  4|  0   0]\n",
       "[---+---+---+-------]\n",
       "[  0|  0|  0|  0 -16]\n",
       "[  0|  0|  0|  1   8]"
      ]
     },
     "execution_count": 19,
     "metadata": {},
     "output_type": "execute_result"
    }
   ],
   "source": [
    "M3.rational_form()"
   ]
  },
  {
   "cell_type": "markdown",
   "metadata": {},
   "source": [
    "On retrouve bien les matrices compagnons des invariants de similitudes des différents opérateurs."
   ]
  },
  {
   "cell_type": "markdown",
   "metadata": {},
   "source": [
    "## Exo 153"
   ]
  },
  {
   "cell_type": "markdown",
   "metadata": {},
   "source": [
    "**1.** Pour rappel, les invariants de similitude de $M_1$ sont donc $x^2 - 7x + 10$ et $x^3 - 4x^2 - 11x + 30$. On détermine leur factorisation :"
   ]
  },
  {
   "cell_type": "code",
   "execution_count": 23,
   "metadata": {},
   "outputs": [
    {
     "data": {
      "text/plain": [
       "(x - 5) * (x - 2)"
      ]
     },
     "execution_count": 23,
     "metadata": {},
     "output_type": "execute_result"
    }
   ],
   "source": [
    "(x^2 - 7*x + 10).factor()"
   ]
  },
  {
   "cell_type": "code",
   "execution_count": 24,
   "metadata": {},
   "outputs": [
    {
     "data": {
      "text/plain": [
       "x^3 - 4*x^2 - 11*x + 30"
      ]
     },
     "execution_count": 24,
     "metadata": {},
     "output_type": "execute_result"
    }
   ],
   "source": [
    "(x^3 - 4*x^2 - 11*x + 30)"
   ]
  },
  {
   "cell_type": "markdown",
   "metadata": {},
   "source": [
    "D'où la forme de Jordan de $M_1$ :"
   ]
  },
  {
   "cell_type": "code",
   "execution_count": 20,
   "metadata": {},
   "outputs": [
    {
     "data": {
      "text/plain": [
       "[-3| 0| 0| 0| 0]\n",
       "[--+--+--+--+--]\n",
       "[ 0| 5| 0| 0| 0]\n",
       "[--+--+--+--+--]\n",
       "[ 0| 0| 5| 0| 0]\n",
       "[--+--+--+--+--]\n",
       "[ 0| 0| 0| 2| 0]\n",
       "[--+--+--+--+--]\n",
       "[ 0| 0| 0| 0| 2]"
      ]
     },
     "execution_count": 20,
     "metadata": {},
     "output_type": "execute_result"
    }
   ],
   "source": [
    "M1.jordan_form()"
   ]
  },
  {
   "cell_type": "markdown",
   "metadata": {},
   "source": [
    "**2.** Le seul invariant de similitude de $M_2$ est $x^5 - 16x^4 + 73x^3 - 18x^2 - 324x - 216$"
   ]
  },
  {
   "cell_type": "code",
   "execution_count": 26,
   "metadata": {},
   "outputs": [
    {
     "data": {
      "text/plain": [
       "(x + 1)^2 * (x - 6)^3"
      ]
     },
     "execution_count": 26,
     "metadata": {},
     "output_type": "execute_result"
    }
   ],
   "source": [
    "(x^5 - 16*x^4 + 73*x^3 - 18*x^2 - 324*x - 216).factor()"
   ]
  },
  {
   "cell_type": "code",
   "execution_count": 28,
   "metadata": {},
   "outputs": [
    {
     "data": {
      "text/plain": [
       "[-1  1| 0  0  0]\n",
       "[ 0 -1| 0  0  0]\n",
       "[-----+--------]\n",
       "[ 0  0| 6  1  0]\n",
       "[ 0  0| 0  6  1]\n",
       "[ 0  0| 0  0  6]"
      ]
     },
     "execution_count": 28,
     "metadata": {},
     "output_type": "execute_result"
    }
   ],
   "source": [
    "M2.jordan_form()"
   ]
  },
  {
   "cell_type": "markdown",
   "metadata": {},
   "source": [
    "**3.** Les invariants de similitude de $M_3$ sont $x-4$, $x-4$, $x-4$ et $x^2 - 8x + 16$."
   ]
  },
  {
   "cell_type": "code",
   "execution_count": 32,
   "metadata": {},
   "outputs": [
    {
     "data": {
      "text/plain": [
       "(x - 4)^2"
      ]
     },
     "execution_count": 32,
     "metadata": {},
     "output_type": "execute_result"
    }
   ],
   "source": [
    "(x^2-8*x+16).factor()"
   ]
  },
  {
   "cell_type": "code",
   "execution_count": 30,
   "metadata": {},
   "outputs": [
    {
     "data": {
      "text/plain": [
       "[4 1|0|0|0]\n",
       "[0 4|0|0|0]\n",
       "[---+-+-+-]\n",
       "[0 0|4|0|0]\n",
       "[---+-+-+-]\n",
       "[0 0|0|4|0]\n",
       "[---+-+-+-]\n",
       "[0 0|0|0|4]"
      ]
     },
     "execution_count": 30,
     "metadata": {},
     "output_type": "execute_result"
    }
   ],
   "source": [
    "M3.jordan_form()"
   ]
  },
  {
   "cell_type": "markdown",
   "metadata": {},
   "source": [
    "## Exo 160"
   ]
  },
  {
   "cell_type": "markdown",
   "metadata": {},
   "source": [
    "**1.** Comme borne pour l'exposant du groupe multiplicatif $ {\\mathbb F}_q[x]/ \\langle \\chi(x) \\rangle $, on peut choisir $q^n - 1$.\n",
    "\n",
    "**2.**"
   ]
  },
  {
   "cell_type": "code",
   "execution_count": 33,
   "metadata": {
    "collapsed": true
   },
   "outputs": [],
   "source": [
    "def periodePoly(p):\n",
    "\n",
    "    P = p.parent()\n",
    "    q = P.characteristic()\n",
    "    n = p.degree()\n",
    "\n",
    "    Pmodp.<x> = P.quotient(p)\n",
    "\n",
    "    m = int(sqrt(q^n-1))+1\n",
    "    T = []\n",
    "    e = 1\n",
    "\n",
    "    for j in range(m):\n",
    "        T += [e]\n",
    "        e = e*x\n",
    "        if (j>0 and e==1):\n",
    "            return j+1\n",
    "\n",
    "    h = x^(-m)\n",
    "    gamma = h\n",
    "\n",
    "    for i in range(m):\n",
    "        for j in range(m):\n",
    "            if gamma == T[j]:\n",
    "                return (i+1)*m+j\n",
    "        gamma = gamma*h"
   ]
  },
  {
   "cell_type": "markdown",
   "metadata": {},
   "source": [
    "**3.**"
   ]
  },
  {
   "cell_type": "code",
   "execution_count": 46,
   "metadata": {
    "collapsed": true
   },
   "outputs": [],
   "source": [
    "F2 = FiniteField(2)\n",
    "P.<x> = PolynomialRing(F2)\n",
    "chi1 = 1 + x + x^2 + x^3 + x^4\n",
    "chi2 = 1 + x + x^2 + x^4\n",
    "chi3 = 1 + x^3 + x^6"
   ]
  },
  {
   "cell_type": "code",
   "execution_count": 47,
   "metadata": {},
   "outputs": [
    {
     "data": {
      "text/plain": [
       "5"
      ]
     },
     "execution_count": 47,
     "metadata": {},
     "output_type": "execute_result"
    }
   ],
   "source": [
    "periodePoly(chi1)"
   ]
  },
  {
   "cell_type": "code",
   "execution_count": 48,
   "metadata": {},
   "outputs": [
    {
     "data": {
      "text/plain": [
       "7"
      ]
     },
     "execution_count": 48,
     "metadata": {},
     "output_type": "execute_result"
    }
   ],
   "source": [
    "periodePoly(chi2)"
   ]
  },
  {
   "cell_type": "code",
   "execution_count": 49,
   "metadata": {},
   "outputs": [
    {
     "data": {
      "text/plain": [
       "9"
      ]
     },
     "execution_count": 49,
     "metadata": {},
     "output_type": "execute_result"
    }
   ],
   "source": [
    "periodePoly(chi3)"
   ]
  },
  {
   "cell_type": "code",
   "execution_count": 50,
   "metadata": {
    "collapsed": true
   },
   "outputs": [],
   "source": [
    "F5 = FiniteField(5)\n",
    "P.<x> = PolynomialRing(F5)\n",
    "chi4 = 3 + x^2\n",
    "chi5 = 3 + 3*x + x^2"
   ]
  },
  {
   "cell_type": "code",
   "execution_count": 51,
   "metadata": {},
   "outputs": [
    {
     "data": {
      "text/plain": [
       "8"
      ]
     },
     "execution_count": 51,
     "metadata": {},
     "output_type": "execute_result"
    }
   ],
   "source": [
    "periodePoly(chi4)"
   ]
  },
  {
   "cell_type": "code",
   "execution_count": 52,
   "metadata": {},
   "outputs": [
    {
     "data": {
      "text/plain": [
       "24"
      ]
     },
     "execution_count": 52,
     "metadata": {},
     "output_type": "execute_result"
    }
   ],
   "source": [
    "periodePoly(chi5)"
   ]
  },
  {
   "cell_type": "markdown",
   "metadata": {},
   "source": [
    "**4.**"
   ]
  },
  {
   "cell_type": "code",
   "execution_count": 34,
   "metadata": {
    "collapsed": true
   },
   "outputs": [],
   "source": [
    "def periodePoly_naif(p):\n",
    "    t = 1\n",
    "    while not(p.divides(x^t-1)):\n",
    "        t += 1\n",
    "    return t"
   ]
  },
  {
   "cell_type": "code",
   "execution_count": 57,
   "metadata": {},
   "outputs": [
    {
     "name": "stdout",
     "output_type": "stream",
     "text": [
      "125 loops, best of 3: 2.26 ms per loop\n"
     ]
    }
   ],
   "source": [
    "timeit(\"periodePoly(chi5)\")"
   ]
  },
  {
   "cell_type": "code",
   "execution_count": 58,
   "metadata": {},
   "outputs": [
    {
     "name": "stdout",
     "output_type": "stream",
     "text": [
      "625 loops, best of 3: 142 µs per loop\n"
     ]
    }
   ],
   "source": [
    "timeit(\"periodePoly_naif(chi5)\")"
   ]
  },
  {
   "cell_type": "markdown",
   "metadata": {},
   "source": [
    "L'algorithme naïf est plus rapide que l'algorithme Baby Step, Giant Step sur cet exemple. Pour cause, l'exemple est de petit degré et l'algo utilise une structure de donnée plus compliquée."
   ]
  },
  {
   "cell_type": "markdown",
   "metadata": {},
   "source": [
    "## Exo 161"
   ]
  },
  {
   "cell_type": "code",
   "execution_count": 61,
   "metadata": {
    "collapsed": true
   },
   "outputs": [],
   "source": [
    "def periode(C,v0):\n",
    "    n = len(v0)\n",
    "    v = v0\n",
    "    for r in range(1,100):\n",
    "        v = C*v\n",
    "        if v == v0:\n",
    "            break\n",
    "    return r"
   ]
  },
  {
   "cell_type": "code",
   "execution_count": 62,
   "metadata": {},
   "outputs": [
    {
     "data": {
      "text/plain": [
       "[1, 5, 5, 5, 5, 5, 5, 5, 5, 5, 5, 5, 5, 5, 5, 5]"
      ]
     },
     "execution_count": 62,
     "metadata": {},
     "output_type": "execute_result"
    }
   ],
   "source": [
    "C=matrix(F2,[[0,1,0,0],[0,0,1,0],[0,0,0,1],[1,1,1,1]])\n",
    "V = list(cartesian_product_iterator([F2]*4))\n",
    "t = []\n",
    "for v in V:\n",
    "    t += [periode(C,vector(v))]\n",
    "t"
   ]
  },
  {
   "cell_type": "code",
   "execution_count": 63,
   "metadata": {},
   "outputs": [
    {
     "data": {
      "text/plain": [
       "[1, 7, 7, 7, 7, 7, 7, 7, 7, 7, 7, 7, 7, 7, 7, 1]"
      ]
     },
     "execution_count": 63,
     "metadata": {},
     "output_type": "execute_result"
    }
   ],
   "source": [
    "C=matrix(F2,[[0,1,0,0],[0,0,1,0],[0,0,0,1],[1,1,1,0]])\n",
    "V = list(cartesian_product_iterator([F2]*4))\n",
    "t = []\n",
    "for v in V:\n",
    "    t += [periode(C,vector(v))]\n",
    "t"
   ]
  },
  {
   "cell_type": "code",
   "execution_count": 64,
   "metadata": {
    "scrolled": true
   },
   "outputs": [
    {
     "data": {
      "text/plain": [
       "[1,\n",
       " 9,\n",
       " 9,\n",
       " 9,\n",
       " 9,\n",
       " 9,\n",
       " 9,\n",
       " 9,\n",
       " 9,\n",
       " 9,\n",
       " 9,\n",
       " 9,\n",
       " 9,\n",
       " 9,\n",
       " 9,\n",
       " 9,\n",
       " 9,\n",
       " 9,\n",
       " 9,\n",
       " 9,\n",
       " 9,\n",
       " 9,\n",
       " 9,\n",
       " 9,\n",
       " 9,\n",
       " 9,\n",
       " 9,\n",
       " 9,\n",
       " 9,\n",
       " 9,\n",
       " 9,\n",
       " 9,\n",
       " 9,\n",
       " 9,\n",
       " 9,\n",
       " 9,\n",
       " 9,\n",
       " 9,\n",
       " 9,\n",
       " 9,\n",
       " 9,\n",
       " 9,\n",
       " 9,\n",
       " 9,\n",
       " 9,\n",
       " 9,\n",
       " 9,\n",
       " 9,\n",
       " 9,\n",
       " 9,\n",
       " 9,\n",
       " 9,\n",
       " 9,\n",
       " 9,\n",
       " 9,\n",
       " 9,\n",
       " 9,\n",
       " 9,\n",
       " 9,\n",
       " 9,\n",
       " 9,\n",
       " 9,\n",
       " 9,\n",
       " 9]"
      ]
     },
     "execution_count": 64,
     "metadata": {},
     "output_type": "execute_result"
    }
   ],
   "source": [
    "C=matrix(F2,[[0,1,0,0,0,0],[0,0,1,0,0,0],[0,0,0,1,0,0],[0,0,0,0,1,0],[0,0,0,0,0,1],[1,0,0,1,0,0]])\n",
    "V = list(cartesian_product_iterator([F2]*6))\n",
    "t = []\n",
    "for v in V:\n",
    "    t += [periode(C,vector(v))]\n",
    "t"
   ]
  },
  {
   "cell_type": "code",
   "execution_count": 65,
   "metadata": {},
   "outputs": [
    {
     "data": {
      "text/plain": [
       "[1, 8, 8, 8, 8, 8, 8, 8, 8, 8, 8, 8, 8, 8, 8, 8, 8, 8, 8, 8, 8, 8, 8, 8, 8]"
      ]
     },
     "execution_count": 65,
     "metadata": {},
     "output_type": "execute_result"
    }
   ],
   "source": [
    "C=matrix(F5,[[0,1],[2,0]])\n",
    "V = list(cartesian_product_iterator([F5]*2))\n",
    "t = []\n",
    "for v in V:\n",
    "    t += [periode(C,vector(v))]\n",
    "t"
   ]
  },
  {
   "cell_type": "code",
   "execution_count": 66,
   "metadata": {
    "scrolled": true
   },
   "outputs": [
    {
     "data": {
      "text/plain": [
       "[1,\n",
       " 24,\n",
       " 24,\n",
       " 24,\n",
       " 24,\n",
       " 24,\n",
       " 24,\n",
       " 24,\n",
       " 24,\n",
       " 24,\n",
       " 24,\n",
       " 24,\n",
       " 24,\n",
       " 24,\n",
       " 24,\n",
       " 24,\n",
       " 24,\n",
       " 24,\n",
       " 24,\n",
       " 24,\n",
       " 24,\n",
       " 24,\n",
       " 24,\n",
       " 24,\n",
       " 24]"
      ]
     },
     "execution_count": 66,
     "metadata": {},
     "output_type": "execute_result"
    }
   ],
   "source": [
    "C=matrix(F5,[[0,1],[2,2]])\n",
    "V = list(cartesian_product_iterator([F5]*2))\n",
    "t = []\n",
    "for v in V:\n",
    "    t += [periode(C,vector(v))]\n",
    "t"
   ]
  },
  {
   "cell_type": "markdown",
   "metadata": {},
   "source": [
    "## Exo 166"
   ]
  },
  {
   "cell_type": "code",
   "execution_count": 67,
   "metadata": {
    "collapsed": true
   },
   "outputs": [],
   "source": [
    "def myBerlekampMassey(r,q):\n",
    "    n = len(r)\n",
    "    Fq = GF(q)\n",
    "    P.<x> = PolynomialRing(Fq)\n",
    "    c = P(1)\n",
    "    l = 0\n",
    "    cStar = P(1)\n",
    "    dStar = Fq(1)\n",
    "    m = -1\n",
    "    for k in range(n):\n",
    "        d = Fq( r[k] + sum([c[i]*r[k-i] for i in range(1,l+1)]) )\n",
    "        if d!=0 :\n",
    "            t = c\n",
    "            c = c - d * (dStar)^(-1) * cStar * x^(k-m)\n",
    "            if (l<=k/2):\n",
    "                l = k+1-l\n",
    "                cStar = t\n",
    "                dStar = d\n",
    "                m = k\n",
    "    return c,l"
   ]
  },
  {
   "cell_type": "code",
   "execution_count": 68,
   "metadata": {},
   "outputs": [
    {
     "data": {
      "text/plain": [
       "(x^6 + x^3 + 1, 6)"
      ]
     },
     "execution_count": 68,
     "metadata": {},
     "output_type": "execute_result"
    }
   ],
   "source": [
    "myBerlekampMassey([1,0,1,1,0,0,0,0,1,1,0,1,1,0,0,0,0,1,1,0,1,1,0,0,0,0,1,1,0,1,1,0,0,0,0,1],2)"
   ]
  }
 ],
 "metadata": {
  "kernelspec": {
   "display_name": "SageMath 7.6",
   "language": "",
   "name": "sagemath"
  },
  "language_info": {
   "codemirror_mode": {
    "name": "ipython",
    "version": 2
   },
   "file_extension": ".py",
   "mimetype": "text/x-python",
   "name": "python",
   "nbconvert_exporter": "python",
   "pygments_lexer": "ipython2",
   "version": "2.7.13"
  }
 },
 "nbformat": 4,
 "nbformat_minor": 2
}
