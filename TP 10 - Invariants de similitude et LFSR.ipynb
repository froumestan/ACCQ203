{
 "cells": [
  {
   "cell_type": "markdown",
   "metadata": {},
   "source": [
    "#### ACCQ203\n",
    "# TP 10 - Invariants de similitude et LFSR"
   ]
  },
  {
   "cell_type": "markdown",
   "metadata": {},
   "source": [
    "## Exo 145"
   ]
  },
  {
   "cell_type": "code",
   "execution_count": 1,
   "metadata": {
    "collapsed": true
   },
   "outputs": [],
   "source": [
    "MS = MatrixSpace(QQ,5,5)\n",
    "K.<x> = PolynomialRing(QQ)"
   ]
  },
  {
   "cell_type": "markdown",
   "metadata": {},
   "source": [
    "**1.**"
   ]
  },
  {
   "cell_type": "code",
   "execution_count": 19,
   "metadata": {},
   "outputs": [],
   "source": [
    "M1 = MS([[-1841, -10363,   22304,  108021, -243809],\n",
    "         [ 1366,   7695,  -16535,  -80130,  180869],\n",
    "         [-1072,  -6088,   13069,   63408, -143144],\n",
    "         [  506,   2951,   -6298,  -30700,   69343],\n",
    "         [   82,    502,   -1061,   -5214,   11788]])"
   ]
  },
  {
   "cell_type": "code",
   "execution_count": 18,
   "metadata": {},
   "outputs": [
    {
     "data": {
      "text/plain": [
       "[                      1                       0                       0                       0                       0]\n",
       "[                      0                       1                       0                       0                       0]\n",
       "[                      0                       0                       1                       0                       0]\n",
       "[                      0                       0                       0          x^2 - 7*x + 10                       0]\n",
       "[                      0                       0                       0                       0 x^3 - 4*x^2 - 11*x + 30]"
      ]
     },
     "execution_count": 18,
     "metadata": {},
     "output_type": "execute_result"
    }
   ],
   "source": [
    "(x*matrix.identity(5)-M1).smith_form()[0]"
   ]
  },
  {
   "cell_type": "markdown",
   "metadata": {},
   "source": [
    "Les invariants de similitude de $M_1$ sont donc $x^2 - 7x + 10$ et $x^3 - 4x^2 - 11x + 30$.\n",
    "\n",
    "Son polynôme minimal est $x^3 - 4x^2 - 11x + 30$\n",
    "\n",
    "On vérifie avec les fonctions de sage :"
   ]
  },
  {
   "cell_type": "code",
   "execution_count": 7,
   "metadata": {},
   "outputs": [
    {
     "data": {
      "text/plain": [
       "x^3 - 4*x^2 - 11*x + 30"
      ]
     },
     "execution_count": 7,
     "metadata": {},
     "output_type": "execute_result"
    }
   ],
   "source": [
    "M1.minimal_polynomial()"
   ]
  },
  {
   "cell_type": "code",
   "execution_count": 8,
   "metadata": {},
   "outputs": [
    {
     "data": {
      "text/plain": [
       "x^5 - 11*x^4 + 27*x^3 + 67*x^2 - 320*x + 300"
      ]
     },
     "execution_count": 8,
     "metadata": {},
     "output_type": "execute_result"
    }
   ],
   "source": [
    "M1.characteristic_polynomial()"
   ]
  },
  {
   "cell_type": "code",
   "execution_count": 9,
   "metadata": {},
   "outputs": [
    {
     "data": {
      "text/plain": [
       "True"
      ]
     },
     "execution_count": 9,
     "metadata": {},
     "output_type": "execute_result"
    }
   ],
   "source": [
    "M1.characteristic_polynomial() == (x^2 - 7*x + 10) * (x^3 - 4*x^2 - 11*x + 30)"
   ]
  },
  {
   "cell_type": "markdown",
   "metadata": {},
   "source": [
    "**2.**"
   ]
  },
  {
   "cell_type": "code",
   "execution_count": 20,
   "metadata": {},
   "outputs": [],
   "source": [
    "M2 = MS([[ 570,  1652,  -8251,  3807,   34007],\n",
    "         [-178,  -522,   2666, -1196,  -10988],\n",
    "         [ 540,  1573,  -7866,  3622,   32430],\n",
    "         [ -42,  -118,    580,  -275,   -2387],\n",
    "         [ 135,   393,  -1967,   905,    8109]])"
   ]
  },
  {
   "cell_type": "code",
   "execution_count": 13,
   "metadata": {},
   "outputs": [
    {
     "data": {
      "text/plain": [
       "[                                           1                                            0                                            0                                            0                                            0]\n",
       "[                                           0                                            1                                            0                                            0                                            0]\n",
       "[                                           0                                            0                                            1                                            0                                            0]\n",
       "[                                           0                                            0                                            0                                            1                                            0]\n",
       "[                                           0                                            0                                            0                                            0 x^5 - 16*x^4 + 73*x^3 - 18*x^2 - 324*x - 216]"
      ]
     },
     "execution_count": 13,
     "metadata": {},
     "output_type": "execute_result"
    }
   ],
   "source": [
    "(x*matrix.identity(5)-M2).smith_form()[0]"
   ]
  },
  {
   "cell_type": "markdown",
   "metadata": {},
   "source": [
    "Le seul invariant de similitude de $M_2$ est $x^5 - 16x^4 + 73x^3 - 18x^2 - 324x - 216$. Il s'agit aussi de son polynôme minimal et de son polynôme caractéristique."
   ]
  },
  {
   "cell_type": "code",
   "execution_count": 14,
   "metadata": {},
   "outputs": [
    {
     "data": {
      "text/plain": [
       "x^5 - 16*x^4 + 73*x^3 - 18*x^2 - 324*x - 216"
      ]
     },
     "execution_count": 14,
     "metadata": {},
     "output_type": "execute_result"
    }
   ],
   "source": [
    "M2.minimal_polynomial()"
   ]
  },
  {
   "cell_type": "code",
   "execution_count": 15,
   "metadata": {},
   "outputs": [
    {
     "data": {
      "text/plain": [
       "x^5 - 16*x^4 + 73*x^3 - 18*x^2 - 324*x - 216"
      ]
     },
     "execution_count": 15,
     "metadata": {},
     "output_type": "execute_result"
    }
   ],
   "source": [
    "M2.characteristic_polynomial()"
   ]
  },
  {
   "cell_type": "markdown",
   "metadata": {},
   "source": [
    "**3.**"
   ]
  },
  {
   "cell_type": "code",
   "execution_count": 21,
   "metadata": {
    "collapsed": true
   },
   "outputs": [],
   "source": [
    "M3 = MS([[ 64,  -300,    924,  -228,   3168],\n",
    "         [-80,   404,  -1232,   304,  -4224],\n",
    "         [ 35,  -175,    543,  -133,   1848],\n",
    "         [-15,    75,   -231,    61,   -792],\n",
    "         [-20,   100,   -308,    76,  -1052]])"
   ]
  },
  {
   "cell_type": "code",
   "execution_count": 22,
   "metadata": {},
   "outputs": [
    {
     "data": {
      "text/plain": [
       "[             1              0              0              0              0]\n",
       "[             0          x - 4              0              0              0]\n",
       "[             0              0          x - 4              0              0]\n",
       "[             0              0              0          x - 4              0]\n",
       "[             0              0              0              0 x^2 - 8*x + 16]"
      ]
     },
     "execution_count": 22,
     "metadata": {},
     "output_type": "execute_result"
    }
   ],
   "source": [
    "(x*matrix.identity(5)-M3).smith_form()[0]"
   ]
  },
  {
   "cell_type": "markdown",
   "metadata": {},
   "source": [
    "Les invariants de similitude de $M_3$ sont $x-4$, $x-4$, $x-4$ et $x^2 - 8x + 16$.\n",
    "\n",
    "Son polynome minimal est $x^2 - 8x + 16$."
   ]
  },
  {
   "cell_type": "code",
   "execution_count": 23,
   "metadata": {},
   "outputs": [
    {
     "data": {
      "text/plain": [
       "x^2 - 8*x + 16"
      ]
     },
     "execution_count": 23,
     "metadata": {},
     "output_type": "execute_result"
    }
   ],
   "source": [
    "M3.minimal_polynomial()"
   ]
  },
  {
   "cell_type": "code",
   "execution_count": 24,
   "metadata": {},
   "outputs": [
    {
     "data": {
      "text/plain": [
       "x^5 - 20*x^4 + 160*x^3 - 640*x^2 + 1280*x - 1024"
      ]
     },
     "execution_count": 24,
     "metadata": {},
     "output_type": "execute_result"
    }
   ],
   "source": [
    "M3.characteristic_polynomial()"
   ]
  },
  {
   "cell_type": "code",
   "execution_count": 25,
   "metadata": {},
   "outputs": [
    {
     "data": {
      "text/plain": [
       "x^5 - 20*x^4 + 160*x^3 - 640*x^2 + 1280*x - 1024"
      ]
     },
     "execution_count": 25,
     "metadata": {},
     "output_type": "execute_result"
    }
   ],
   "source": [
    "(x-4)^3 * (x^2 - 8*x + 16)"
   ]
  },
  {
   "cell_type": "markdown",
   "metadata": {},
   "source": [
    "## Exo 148"
   ]
  },
  {
   "cell_type": "code",
   "execution_count": null,
   "metadata": {
    "collapsed": true
   },
   "outputs": [],
   "source": []
  }
 ],
 "metadata": {
  "kernelspec": {
   "display_name": "SageMath 7.6",
   "language": "",
   "name": "sagemath"
  },
  "language_info": {
   "codemirror_mode": {
    "name": "ipython",
    "version": 2
   },
   "file_extension": ".py",
   "mimetype": "text/x-python",
   "name": "python",
   "nbconvert_exporter": "python",
   "pygments_lexer": "ipython2",
   "version": "2.7.13"
  }
 },
 "nbformat": 4,
 "nbformat_minor": 2
}
