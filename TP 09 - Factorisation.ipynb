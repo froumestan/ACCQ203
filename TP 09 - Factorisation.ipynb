{
 "cells": [
  {
   "cell_type": "markdown",
   "metadata": {},
   "source": [
    "#### ACCQ203\n",
    "# TP 9 - Factorisation"
   ]
  },
  {
   "cell_type": "markdown",
   "metadata": {},
   "source": [
    "## Exo 129"
   ]
  },
  {
   "cell_type": "markdown",
   "metadata": {},
   "source": [
    "**1.**"
   ]
  },
  {
   "cell_type": "code",
   "execution_count": 87,
   "metadata": {
    "collapsed": true
   },
   "outputs": [],
   "source": [
    "def divSucc(n):\n",
    "    F = []\n",
    "    d = 2\n",
    "    while (d^2<=n):\n",
    "        while d.divides(n) :\n",
    "            n = n/d\n",
    "            F+=[d]\n",
    "        d+=1\n",
    "    if (n>1):\n",
    "        F.append(n)\n",
    "    return F"
   ]
  },
  {
   "cell_type": "code",
   "execution_count": 2,
   "metadata": {},
   "outputs": [
    {
     "data": {
      "text/plain": [
       "[2, 2, 3, 7, 11]"
      ]
     },
     "execution_count": 2,
     "metadata": {},
     "output_type": "execute_result"
    }
   ],
   "source": [
    "divSucc(924)"
   ]
  },
  {
   "cell_type": "markdown",
   "metadata": {},
   "source": [
    "**2.** La commande `d+=1` fait que l'on parcourt tous les entiers inférieurs à $\\sqrt{n}$. On pourrait rendre l'algorithme plus efficace si `d` ne prenait que des valeurs premières."
   ]
  },
  {
   "cell_type": "markdown",
   "metadata": {},
   "source": [
    "**4.**"
   ]
  },
  {
   "cell_type": "code",
   "execution_count": 3,
   "metadata": {
    "collapsed": true
   },
   "outputs": [],
   "source": [
    "def divSucc(n):\n",
    "    F = []\n",
    "    while 2.divides(n) :\n",
    "            n = n/2\n",
    "            F.append(2)\n",
    "    while 3.divides(n) :\n",
    "            n = n/3\n",
    "            F.append(3)\n",
    "    d = 5\n",
    "    while (d^2<=n):\n",
    "        while d.divides(n) :\n",
    "            n = n/d\n",
    "            F.append(d)\n",
    "        d+=2\n",
    "        while d.divides(n) :\n",
    "            n = n/d\n",
    "            F.append(d)\n",
    "        d+=4\n",
    "    if (n>1):\n",
    "        F.append(n)\n",
    "    return F"
   ]
  },
  {
   "cell_type": "markdown",
   "metadata": {},
   "source": [
    "## Exo 130"
   ]
  },
  {
   "cell_type": "code",
   "execution_count": 1,
   "metadata": {
    "collapsed": true
   },
   "outputs": [],
   "source": [
    "def divSuccFriable(n,B):\n",
    "    F = []\n",
    "    d = 2\n",
    "    P = list(primes(B+1))\n",
    "    for p in P :\n",
    "        while p.divides(n) :\n",
    "            n = n/p\n",
    "            F+=[p]\n",
    "    if (n>1):\n",
    "        F.append(n)\n",
    "    return F"
   ]
  },
  {
   "cell_type": "code",
   "execution_count": 5,
   "metadata": {},
   "outputs": [
    {
     "data": {
      "text/plain": [
       "[2, 2, 3, 7, 11]"
      ]
     },
     "execution_count": 5,
     "metadata": {},
     "output_type": "execute_result"
    }
   ],
   "source": [
    "divSuccFriable(924,11)"
   ]
  },
  {
   "cell_type": "markdown",
   "metadata": {},
   "source": [
    "## Exo 132"
   ]
  },
  {
   "cell_type": "code",
   "execution_count": 6,
   "metadata": {
    "collapsed": true
   },
   "outputs": [],
   "source": [
    "def myPollardrho(n):\n",
    "    x = randint(0,n-1)\n",
    "    y = x\n",
    "    f = lambda t : mod(t^2 + 1,n)\n",
    "    g = 1\n",
    "    while (g==1):\n",
    "        x = f(x)\n",
    "        y = f(f(x))\n",
    "        g = gcd(x-y,n)\n",
    "    if (g==n):\n",
    "        return 1\n",
    "    else :\n",
    "        return g"
   ]
  },
  {
   "cell_type": "code",
   "execution_count": 20,
   "metadata": {},
   "outputs": [
    {
     "data": {
      "text/plain": [
       "84"
      ]
     },
     "execution_count": 20,
     "metadata": {},
     "output_type": "execute_result"
    }
   ],
   "source": [
    "myPollardrho(924)"
   ]
  },
  {
   "cell_type": "markdown",
   "metadata": {
    "collapsed": true
   },
   "source": [
    "**Problème** : Certains nombres apliqués à la fonction donnent une boucle infinie (par exemple 41 ou 73)\n",
    "\n",
    "**Solution** : Renvoyer 1 pour un nombre de boucles trop important ?"
   ]
  },
  {
   "cell_type": "markdown",
   "metadata": {},
   "source": [
    "**Problème** : La recherche n'aboutit pas nécessairement sur un facteur non trivial"
   ]
  },
  {
   "cell_type": "code",
   "execution_count": 11,
   "metadata": {},
   "outputs": [
    {
     "data": {
      "text/plain": [
       "1589"
      ]
     },
     "execution_count": 11,
     "metadata": {},
     "output_type": "execute_result"
    }
   ],
   "source": [
    "test = [myPollardrho(3*7*11) for i in range(10000)]\n",
    "list(test).count(1)"
   ]
  },
  {
   "cell_type": "markdown",
   "metadata": {},
   "source": [
    "**Solution** : Répéter la fonction jusqu'à avoir un facteur non trivial"
   ]
  },
  {
   "cell_type": "markdown",
   "metadata": {},
   "source": [
    "## Exo 133"
   ]
  },
  {
   "cell_type": "code",
   "execution_count": 21,
   "metadata": {
    "collapsed": true
   },
   "outputs": [],
   "source": [
    "def myPollardpm1(n,P,b):\n",
    "    c = randint(2,n-1)\n",
    "    g = gcd(c,n)\n",
    "    if (g>1):\n",
    "        return g\n",
    "    for p in P :\n",
    "        alpha = 1\n",
    "        while (p^alpha<=b):\n",
    "            alpha+=1\n",
    "        alpha-=1\n",
    "        for j in range(alpha):\n",
    "            c = mod(c^p,n)\n",
    "    g = gcd(c-1,n)\n",
    "    if (1<g and g<n):\n",
    "        return(g)\n",
    "    else:\n",
    "        return 1"
   ]
  },
  {
   "cell_type": "code",
   "execution_count": 32,
   "metadata": {},
   "outputs": [
    {
     "data": {
      "text/plain": [
       "12"
      ]
     },
     "execution_count": 32,
     "metadata": {},
     "output_type": "execute_result"
    }
   ],
   "source": [
    "while True:\n",
    "    P = [2,3]\n",
    "    tmp = myPollardpm1(924,P,7)\n",
    "    if tmp != 1:\n",
    "        break\n",
    "tmp"
   ]
  },
  {
   "cell_type": "markdown",
   "metadata": {},
   "source": [
    "## Exo 137"
   ]
  },
  {
   "cell_type": "markdown",
   "metadata": {},
   "source": [
    "**1.** On peut appliquer l'algorithme avec le polynome $\\left(x+\\lceil \\sqrt{n} \\rceil\\right)^2-n$ puis on ajoute $\\lceil \\sqrt{n} \\rceil$ aux indices ainsi obtenus."
   ]
  },
  {
   "cell_type": "markdown",
   "metadata": {},
   "source": [
    "**2.** On code le crible basique dans le cas d'un polynome $f$ quelconque :"
   ]
  },
  {
   "cell_type": "code",
   "execution_count": 79,
   "metadata": {
    "collapsed": true
   },
   "outputs": [],
   "source": [
    "def crible(K,f,B):\n",
    "    F = [1 for i in range(K+1)]\n",
    "    P = list(primes(B+1))\n",
    "    m = max(map(f,[k for k in range(0,K+1)]))\n",
    "    for p in P :\n",
    "        alpha = 1\n",
    "        while p^alpha <= m :\n",
    "            for x in range(p^alpha):\n",
    "                if mod(f(x),p^alpha)==0 :\n",
    "                    k = 0\n",
    "                    while (x+k*p^alpha<=K) :\n",
    "                        F[x+k*p^alpha] = F[x+k*p^alpha]*p\n",
    "                        k+=1\n",
    "            alpha+=1\n",
    "    rep = [k for k in range(0,K+1) if (f(k)==F[k])]\n",
    "    return rep"
   ]
  },
  {
   "cell_type": "code",
   "execution_count": 80,
   "metadata": {},
   "outputs": [
    {
     "data": {
      "text/plain": [
       "[1, 2, 3, 4, 6, 8, 9, 12]"
      ]
     },
     "execution_count": 80,
     "metadata": {},
     "output_type": "execute_result"
    }
   ],
   "source": [
    "crible(15,lambda x : x,3)"
   ]
  },
  {
   "cell_type": "code",
   "execution_count": 108,
   "metadata": {},
   "outputs": [
    {
     "data": {
      "text/plain": [
       "[0, 2, 3]"
      ]
     },
     "execution_count": 108,
     "metadata": {},
     "output_type": "execute_result"
    }
   ],
   "source": [
    "crible(5,lambda x : (x+54)^2-2886,11)"
   ]
  },
  {
   "cell_type": "markdown",
   "metadata": {},
   "source": [
    "## Exo 139"
   ]
  },
  {
   "cell_type": "code",
   "execution_count": 99,
   "metadata": {
    "collapsed": true
   },
   "outputs": [],
   "source": [
    "L = lambda n : exp(sqrt(ln(n)*ln(ln(n))))"
   ]
  },
  {
   "cell_type": "code",
   "execution_count": 152,
   "metadata": {},
   "outputs": [],
   "source": [
    "def cribleQuadratique(n):\n",
    "    \n",
    "    B = ceil(sqrt(L(n)))\n",
    "    P = list(primes(B+1))\n",
    "    m = len(P)\n",
    "    \n",
    "    S = []\n",
    "    f = lambda x : (x + ceil(sqrt(n)))^2-n\n",
    "    tmp = crible(m^3,f,B)   # Comment bien choisir K de sorte qu'on obtienne suffisamment de valeurs de x ?\n",
    "    for i in range(m+1) :\n",
    "        S += [(tmp[i], tmp[i]^2)]\n",
    "\n",
    "    e = []\n",
    "    for (x,a) in S:\n",
    "        F = divSucc(a)\n",
    "        e += [list(F).count(p) for p in P]\n",
    "\n",
    "    MS = MatrixSpace(GF(2),m+1,m)\n",
    "    e2 = MS(e)\n",
    "    k = kernel(e2).basis()[0]\n",
    "\n",
    "    x = 1\n",
    "    y = 1\n",
    "    for i in range(m+1):\n",
    "        if k[i]==1 :\n",
    "            x = x * S[i][0]\n",
    "            y = mod(a,n) * y\n",
    "    x = mod(x,n)\n",
    "    d = gcd((x-y),n)\n",
    "    return d"
   ]
  },
  {
   "cell_type": "code",
   "execution_count": 154,
   "metadata": {},
   "outputs": [
    {
     "data": {
      "text/plain": [
       "3"
      ]
     },
     "execution_count": 154,
     "metadata": {},
     "output_type": "execute_result"
    }
   ],
   "source": [
    "cribleQuadratique(2886)"
   ]
  }
 ],
 "metadata": {
  "kernelspec": {
   "display_name": "SageMath 7.6",
   "language": "",
   "name": "sagemath"
  },
  "language_info": {
   "codemirror_mode": {
    "name": "ipython",
    "version": 2
   },
   "file_extension": ".py",
   "mimetype": "text/x-python",
   "name": "python",
   "nbconvert_exporter": "python",
   "pygments_lexer": "ipython2",
   "version": "2.7.13"
  }
 },
 "nbformat": 4,
 "nbformat_minor": 2
}
