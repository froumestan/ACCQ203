{
 "cells": [
  {
   "cell_type": "markdown",
   "metadata": {},
   "source": [
    "#### ACCQ203\n",
    "# TP 9 - Factorisation"
   ]
  },
  {
   "cell_type": "markdown",
   "metadata": {},
   "source": [
    "## Exo 129"
   ]
  },
  {
   "cell_type": "markdown",
   "metadata": {},
   "source": [
    "**1.**"
   ]
  },
  {
   "cell_type": "code",
   "execution_count": 1,
   "metadata": {
    "collapsed": true
   },
   "outputs": [],
   "source": [
    "def divSucc(n):\n",
    "    F = []\n",
    "    d = 2\n",
    "    while (d^2<=n):\n",
    "        while d.divides(n) :\n",
    "            n = n/d\n",
    "            F+=[d]\n",
    "        d+=1\n",
    "    if (n>1):\n",
    "        F.append(n)\n",
    "    return F"
   ]
  },
  {
   "cell_type": "code",
   "execution_count": 2,
   "metadata": {},
   "outputs": [
    {
     "data": {
      "text/plain": [
       "[2, 2, 3, 7, 11]"
      ]
     },
     "execution_count": 2,
     "metadata": {},
     "output_type": "execute_result"
    }
   ],
   "source": [
    "divSucc(924)"
   ]
  },
  {
   "cell_type": "markdown",
   "metadata": {},
   "source": [
    "**2.** La commande `d+=1` fait que l'on parcourt tous les entiers inférieurs à $\\sqrt{n}$. On pourrait rendre l'algorithme plus efficace si `d` ne prenait que des valeurs premières."
   ]
  },
  {
   "cell_type": "markdown",
   "metadata": {},
   "source": [
    "**4.**"
   ]
  },
  {
   "cell_type": "code",
   "execution_count": 3,
   "metadata": {
    "collapsed": true
   },
   "outputs": [],
   "source": [
    "def divSucc(n):\n",
    "    F = []\n",
    "    while 2.divides(n) :\n",
    "            n = n/2\n",
    "            F.append(2)\n",
    "    while 3.divides(n) :\n",
    "            n = n/3\n",
    "            F.append(3)\n",
    "    d = 5\n",
    "    while (d^2<=n):\n",
    "        while d.divides(n) :\n",
    "            n = n/d\n",
    "            F.append(d)\n",
    "        d+=2\n",
    "        while d.divides(n) :\n",
    "            n = n/d\n",
    "            F.append(d)\n",
    "        d+=4\n",
    "    if (n>1):\n",
    "        F.append(n)\n",
    "    return F"
   ]
  },
  {
   "cell_type": "markdown",
   "metadata": {},
   "source": [
    "## Exo 130"
   ]
  },
  {
   "cell_type": "code",
   "execution_count": 4,
   "metadata": {
    "collapsed": true
   },
   "outputs": [],
   "source": [
    "def divSuccFriable(n,B):\n",
    "    F = []\n",
    "    d = 2\n",
    "    P = Primes()\n",
    "    while (d<=B):\n",
    "        while d.divides(n) :\n",
    "            n = n/d\n",
    "            F+=[d]\n",
    "        d = P.next(d)\n",
    "    if (n>1):\n",
    "        F.append(n)\n",
    "    return F"
   ]
  },
  {
   "cell_type": "code",
   "execution_count": 5,
   "metadata": {},
   "outputs": [
    {
     "data": {
      "text/plain": [
       "[2, 2, 3, 7, 11]"
      ]
     },
     "execution_count": 5,
     "metadata": {},
     "output_type": "execute_result"
    }
   ],
   "source": [
    "divSuccFriable(924,11)"
   ]
  },
  {
   "cell_type": "markdown",
   "metadata": {},
   "source": [
    "## Exo 132"
   ]
  },
  {
   "cell_type": "code",
   "execution_count": 6,
   "metadata": {
    "collapsed": true
   },
   "outputs": [],
   "source": [
    "def myPollardrho(n):\n",
    "    x = randint(0,n-1)\n",
    "    y = x\n",
    "    f = lambda t : mod(t^2 + 1,n)\n",
    "    g = 1\n",
    "    while (g==1):\n",
    "        x = f(x)\n",
    "        y = f(f(x))\n",
    "        g = gcd(x-y,n)\n",
    "    if (g==n):\n",
    "        return 1\n",
    "    else :\n",
    "        return g"
   ]
  },
  {
   "cell_type": "markdown",
   "metadata": {
    "collapsed": true
   },
   "source": [
    "**Problème** : Certains nombres apliqués à la fonction donnent une boucle infinie (par exemple 41 ou 73)\n",
    "\n",
    "**Solution** : Renvoyer 1 pour un nombre de boucles trop important ?"
   ]
  },
  {
   "cell_type": "markdown",
   "metadata": {},
   "source": [
    "**Problème** : La recherche n'aboutit pas nécessairement sur un facteur non trivial"
   ]
  },
  {
   "cell_type": "code",
   "execution_count": 7,
   "metadata": {},
   "outputs": [
    {
     "data": {
      "text/plain": [
       "1588"
      ]
     },
     "execution_count": 7,
     "metadata": {},
     "output_type": "execute_result"
    }
   ],
   "source": [
    "test = [myPollardrho(3*7*11) for i in range(10000)]\n",
    "list(test).count(1)"
   ]
  },
  {
   "cell_type": "markdown",
   "metadata": {},
   "source": [
    "**Solution** : Répéter la fonction jusqu'à avoir un facteur non trivial"
   ]
  },
  {
   "cell_type": "markdown",
   "metadata": {},
   "source": [
    "## Exo 133"
   ]
  },
  {
   "cell_type": "code",
   "execution_count": 8,
   "metadata": {
    "collapsed": true
   },
   "outputs": [],
   "source": [
    "def myPollardpm1(n,P,b):\n",
    "    c = randint(2,n-1)\n",
    "    g = gcd(c,n)\n",
    "    if (g>1):\n",
    "        return g\n",
    "    for p in P :\n",
    "        alpha = 1\n",
    "        while (p^alpha<=b):\n",
    "            alpha+=1\n",
    "        alpha-=1\n",
    "        for j in range(alpha):\n",
    "            c = mod(c^p,n)\n",
    "    g = gcd(c-1,n)\n",
    "    if (1<g and g<n):\n",
    "        return(g)\n",
    "    else:\n",
    "        return 1"
   ]
  },
  {
   "cell_type": "code",
   "execution_count": 9,
   "metadata": {},
   "outputs": [
    {
     "data": {
      "text/plain": [
       "13"
      ]
     },
     "execution_count": 9,
     "metadata": {},
     "output_type": "execute_result"
    }
   ],
   "source": [
    "while True:\n",
    "    P = [2,3]\n",
    "    tmp = myPollardpm1(13*19*7,P,3)\n",
    "    if tmp != 1:\n",
    "        break\n",
    "tmp"
   ]
  },
  {
   "cell_type": "markdown",
   "metadata": {},
   "source": [
    "## Exo 137"
   ]
  },
  {
   "cell_type": "markdown",
   "metadata": {},
   "source": [
    "**1.** On peut appliquer l'algorithme avec le polynome $\\left(x+\\lceil \\sqrt{n} \\rceil\\right)^2-n$"
   ]
  },
  {
   "cell_type": "markdown",
   "metadata": {},
   "source": [
    "**2.** On code le crible basique dans le cas d'un polynome $f$ quelconque :"
   ]
  },
  {
   "cell_type": "code",
   "execution_count": 52,
   "metadata": {
    "collapsed": true
   },
   "outputs": [],
   "source": [
    "def crible(K,f,B):\n",
    "    F = [1 for i in range(K)]\n",
    "    P = list(primes(B+1))\n",
    "    m = max(map(f,[k for k in range(1,K+1)]))\n",
    "    for p in P :\n",
    "        alpha = 1\n",
    "        while p^alpha <= m :\n",
    "            for x in range(p^alpha):\n",
    "                if mod(f(x),p^alpha)==0 :\n",
    "                    if x==0 :\n",
    "                        k = 1\n",
    "                    else :\n",
    "                        k = 0\n",
    "                    while (x+k*p^alpha<=K) :\n",
    "                        F[x+k*p^alpha-1] = F[x+k*p^alpha-1]*p\n",
    "                        k+=1\n",
    "            alpha+=1\n",
    "    rep = [k for k in range(1,K+1) if (f(k)==F[k-1])]\n",
    "    return rep"
   ]
  },
  {
   "cell_type": "code",
   "execution_count": 53,
   "metadata": {},
   "outputs": [
    {
     "data": {
      "text/plain": [
       "[1, 2, 3, 4, 6, 8, 9, 12]"
      ]
     },
     "execution_count": 53,
     "metadata": {},
     "output_type": "execute_result"
    }
   ],
   "source": [
    "crible(15,lambda x : x,3)"
   ]
  },
  {
   "cell_type": "markdown",
   "metadata": {},
   "source": [
    "## Exo 139"
   ]
  },
  {
   "cell_type": "code",
   "execution_count": 60,
   "metadata": {
    "collapsed": true
   },
   "outputs": [],
   "source": [
    "def cribleQuadratique(n):\n",
    "\n",
    "    B = int(sqrt(exp(sqrt(ln(n)*ln(ln(n)))))) + 1\n",
    "    P = list(primes(B+1))\n",
    "    m = len(P)\n",
    "\n",
    "    S = []\n",
    "    x = crible(n,lambda t : (ceil(sqrt(n))+t)^2 - n,B) \n",
    "    for i in range(m+1) :\n",
    "        S += [(x[i],x[i]^2)]\n",
    "\n",
    "    e = []\n",
    "    for (x,a) in S:\n",
    "        F = divSucc(a)\n",
    "        e += [list(F).count(p) for p in P]\n",
    "\n",
    "    MS = MatrixSpace(GF(2),m+1,m)\n",
    "    e2 = MS(e)\n",
    "    k = kernel(e2).basis()[0]\n",
    "\n",
    "    x = 1\n",
    "    y = 1\n",
    "    for i in range(m+1):\n",
    "        if k[i]==1 :\n",
    "            x = x * S[i][0]\n",
    "            y = mod(a,n) * y\n",
    "    x = mod(x,n)\n",
    "    d = gcd((x-y),n)\n",
    "    return d"
   ]
  },
  {
   "cell_type": "code",
   "execution_count": 62,
   "metadata": {},
   "outputs": [
    {
     "ename": "IndexError",
     "evalue": "list index out of range",
     "output_type": "error",
     "traceback": [
      "\u001b[0;31m---------------------------------------------------------------------------\u001b[0m",
      "\u001b[0;31mIndexError\u001b[0m                                Traceback (most recent call last)",
      "\u001b[0;32m<ipython-input-62-e952ce8979e0>\u001b[0m in \u001b[0;36m<module>\u001b[0;34m()\u001b[0m\n\u001b[0;32m----> 1\u001b[0;31m \u001b[0mcribleQuadratique\u001b[0m\u001b[0;34m(\u001b[0m\u001b[0mInteger\u001b[0m\u001b[0;34m(\u001b[0m\u001b[0;36m30\u001b[0m\u001b[0;34m)\u001b[0m\u001b[0;34m)\u001b[0m\u001b[0;34m\u001b[0m\u001b[0m\n\u001b[0m",
      "\u001b[0;32m<ipython-input-60-9e689647716f>\u001b[0m in \u001b[0;36mcribleQuadratique\u001b[0;34m(n)\u001b[0m\n\u001b[1;32m      8\u001b[0m     \u001b[0mx\u001b[0m \u001b[0;34m=\u001b[0m \u001b[0mcrible\u001b[0m\u001b[0;34m(\u001b[0m\u001b[0mn\u001b[0m\u001b[0;34m,\u001b[0m\u001b[0;32mlambda\u001b[0m \u001b[0mt\u001b[0m \u001b[0;34m:\u001b[0m \u001b[0;34m(\u001b[0m\u001b[0mceil\u001b[0m\u001b[0;34m(\u001b[0m\u001b[0msqrt\u001b[0m\u001b[0;34m(\u001b[0m\u001b[0mn\u001b[0m\u001b[0;34m)\u001b[0m\u001b[0;34m)\u001b[0m\u001b[0;34m+\u001b[0m\u001b[0mt\u001b[0m\u001b[0;34m)\u001b[0m\u001b[0;34m**\u001b[0m\u001b[0mInteger\u001b[0m\u001b[0;34m(\u001b[0m\u001b[0;36m2\u001b[0m\u001b[0;34m)\u001b[0m \u001b[0;34m-\u001b[0m \u001b[0mn\u001b[0m\u001b[0;34m,\u001b[0m\u001b[0mB\u001b[0m\u001b[0;34m)\u001b[0m\u001b[0;34m\u001b[0m\u001b[0m\n\u001b[1;32m      9\u001b[0m     \u001b[0;32mfor\u001b[0m \u001b[0mi\u001b[0m \u001b[0;32min\u001b[0m \u001b[0mrange\u001b[0m\u001b[0;34m(\u001b[0m\u001b[0mm\u001b[0m\u001b[0;34m+\u001b[0m\u001b[0mInteger\u001b[0m\u001b[0;34m(\u001b[0m\u001b[0;36m1\u001b[0m\u001b[0;34m)\u001b[0m\u001b[0;34m)\u001b[0m \u001b[0;34m:\u001b[0m\u001b[0;34m\u001b[0m\u001b[0m\n\u001b[0;32m---> 10\u001b[0;31m         \u001b[0mS\u001b[0m \u001b[0;34m+=\u001b[0m \u001b[0;34m[\u001b[0m\u001b[0;34m(\u001b[0m\u001b[0mx\u001b[0m\u001b[0;34m[\u001b[0m\u001b[0mi\u001b[0m\u001b[0;34m]\u001b[0m\u001b[0;34m,\u001b[0m\u001b[0mx\u001b[0m\u001b[0;34m[\u001b[0m\u001b[0mi\u001b[0m\u001b[0;34m]\u001b[0m\u001b[0;34m**\u001b[0m\u001b[0mInteger\u001b[0m\u001b[0;34m(\u001b[0m\u001b[0;36m2\u001b[0m\u001b[0;34m)\u001b[0m\u001b[0;34m)\u001b[0m\u001b[0;34m]\u001b[0m\u001b[0;34m\u001b[0m\u001b[0m\n\u001b[0m\u001b[1;32m     11\u001b[0m \u001b[0;34m\u001b[0m\u001b[0m\n\u001b[1;32m     12\u001b[0m     \u001b[0me\u001b[0m \u001b[0;34m=\u001b[0m \u001b[0;34m[\u001b[0m\u001b[0;34m]\u001b[0m\u001b[0;34m\u001b[0m\u001b[0m\n",
      "\u001b[0;31mIndexError\u001b[0m: list index out of range"
     ]
    }
   ],
   "source": [
    "cribleQuadratique(30)"
   ]
  },
  {
   "cell_type": "code",
   "execution_count": null,
   "metadata": {
    "collapsed": true
   },
   "outputs": [],
   "source": []
  }
 ],
 "metadata": {
  "kernelspec": {
   "display_name": "SageMath 7.6",
   "language": "",
   "name": "sagemath"
  },
  "language_info": {
   "codemirror_mode": {
    "name": "ipython",
    "version": 2
   },
   "file_extension": ".py",
   "mimetype": "text/x-python",
   "name": "python",
   "nbconvert_exporter": "python",
   "pygments_lexer": "ipython2",
   "version": "2.7.13"
  }
 },
 "nbformat": 4,
 "nbformat_minor": 2
}
